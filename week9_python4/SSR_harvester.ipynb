{
 "cells": [
  {
   "cell_type": "markdown",
   "id": "f7354a27",
   "metadata": {},
   "source": [
    "## This is a script to match 3 types of SSRs (simple sequence repeats), and extract the sequences containing them. For data science I, fall 2022, python4.\n",
    "\n",
    "I am sharing the code I wrote for this in a jupyter notebook to facilitate a tutorial of working with jupyter. Jupyter is available as part of conda installs or through the anaconda navigator suite.\n"
   ]
  },
  {
   "cell_type": "markdown",
   "id": "4a8f3bd3",
   "metadata": {},
   "source": [
    "### Importing libraries `sys` and `re`. sys for accessing command line arguments and re for regular expression work."
   ]
  },
  {
   "cell_type": "code",
   "execution_count": null,
   "id": "2d05a4e8",
   "metadata": {},
   "outputs": [],
   "source": [
    "import sys\n",
    "import re"
   ]
  },
  {
   "cell_type": "markdown",
   "id": "b5aafb40",
   "metadata": {},
   "source": [
    "### Initializing the variables that will be global (meaning they will live in and outside of the for loops below)"
   ]
  },
  {
   "cell_type": "code",
   "execution_count": null,
   "id": "16b5559c",
   "metadata": {},
   "outputs": [],
   "source": [
    "SeqNo = 0\n",
    "TAT = 0\n",
    "TATC= 0\n",
    "TGA = 0\n",
    "AT = 0\n",
    "ATC = 0\n",
    "GA = 0"
   ]
  },
  {
   "cell_type": "markdown",
   "id": "21844dc6",
   "metadata": {},
   "source": [
    "### Creating file handles to a file to read in from the command line, and for a file to write to. The command line argument would need to be provided when a script is executed from terminal."
   ]
  },
  {
   "cell_type": "code",
   "execution_count": 1,
   "id": "baf16178",
   "metadata": {},
   "outputs": [],
   "source": [
    "IN = open(\"Manacus_vitellinus.gene.cds.fa\", 'r')\n",
    "OUT = open(\"SSR_out.txt\", 'w')"
   ]
  },
  {
   "cell_type": "markdown",
   "id": "2a5c98ba",
   "metadata": {},
   "source": [
    "### Using a `for` loop to read in one line at a time from IN, then using conditionals with regular expressions.\n",
    "The code below if uses `re.findall` to store matches in lists, and by using `len`, count the number of matches in each list. So, the `AT` variable below will store the number of matches to AT SSRs with 6 repeats for each DNA sequence, going one line at a time. `TAT += AT` then keep a running tally, over all lines, for that match. AFter the `for` loop is complete, `TAT`, `TATC`, and `TGA` will have the total number of matches to each of those motifs for the entire file.\n"
   ]
  },
  {
   "cell_type": "code",
   "execution_count": 5,
   "id": "f37ff95e",
   "metadata": {
    "scrolled": true
   },
   "outputs": [],
   "source": [
    "for Line in IN:\n",
    "\tLine = Line.strip(\"\\n\")\n",
    "\tFasta = Line\n",
    "\t#print(Line)\n",
    "\tSeq = IN.readline()\n",
    "\tSeq = Seq.strip(\"\\n\")\n",
    "\t#print(Seq)\n",
    "\t\n",
    "\tSeqNo += 1\n",
    "\tif re.search(r\"(AT){6,}\", Seq) or re.search(r\"(ATC){3,}\", Seq) or re.search(r\"(GA){5,}\", Seq):\n",
    "\t\tOUT.write(\"%s Contains SSR: \\n %s \\n\" % (Fasta, Seq))\n",
    "\t\tAT = len(re.findall(r\"(AT){6,}\", Seq))\n",
    "\t\tATC = len(re.findall(r\"(ATC){3,}\", Seq))\n",
    "\t\tGA = len(re.findall(r\"(GA){5,}\", Seq))\n",
    "\t\tTAT += AT\n",
    "\t\tTATC += ATC\n",
    "\t\tTGA += GA"
   ]
  },
  {
   "cell_type": "markdown",
   "id": "bac8d2c0",
   "metadata": {},
   "source": [
    "## Printing summary of results for entire transcriptome (file)"
   ]
  },
  {
   "cell_type": "code",
   "execution_count": null,
   "id": "cbfdc755",
   "metadata": {},
   "outputs": [],
   "source": [
    "print(\"File has %d AT SSRs, %d ATC SSRs and, and %d GA SSRs   \\n\" % (TAT, TATC, TGA))"
   ]
  },
  {
   "cell_type": "markdown",
   "id": "e66ab0e7",
   "metadata": {},
   "source": [
    "## Close both file handle"
   ]
  },
  {
   "cell_type": "code",
   "execution_count": 6,
   "id": "61bcffec",
   "metadata": {},
   "outputs": [],
   "source": [
    "IN.close()\n",
    "OUT.close()"
   ]
  }
 ],
 "metadata": {
  "kernelspec": {
   "display_name": "Python 3",
   "language": "python",
   "name": "python3"
  },
  "language_info": {
   "codemirror_mode": {
    "name": "ipython",
    "version": 3
   },
   "file_extension": ".py",
   "mimetype": "text/x-python",
   "name": "python",
   "nbconvert_exporter": "python",
   "pygments_lexer": "ipython3",
   "version": "3.8.6"
  }
 },
 "nbformat": 4,
 "nbformat_minor": 5
}
